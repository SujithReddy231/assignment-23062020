{
 "cells": [
  {
   "cell_type": "code",
   "execution_count": 1,
   "metadata": {},
   "outputs": [
    {
     "name": "stdout",
     "output_type": "stream",
     "text": [
      "[3, 2, 40, 30, 'hai', 1, 100, 'hello']\n"
     ]
    }
   ],
   "source": [
    "import random\n",
    "l1=[100,1,2,3,30,40,\"hai\",\"hello\"]\n",
    "random.shuffle(l1)\n",
    "print(l1)"
   ]
  },
  {
   "cell_type": "code",
   "execution_count": 2,
   "metadata": {},
   "outputs": [
    {
     "name": "stdout",
     "output_type": "stream",
     "text": [
      "radius:5\n",
      "angle:120\n",
      "Area of minor segment = 15.354621232609457\n",
      "Area of major segment = 63.185195107135364\n"
     ]
    }
   ],
   "source": [
    "import math   \n",
    "pi = math.pi\n",
    "def area_of_segment(radius, angle): \n",
    "    area_of_sector = pi * (radius * radius) * (angle / 360) \n",
    "    area_of_triangle = 1 / 2 * (radius * radius) *math.sin((angle * pi) / 180) \n",
    "    return area_of_sector - area_of_triangle; \n",
    "radius = float(input(\"radius:\"))\n",
    "angle = float(input(\"angle:\"))\n",
    "print(\"Area of minor segment =\", area_of_segment(radius, angle)) \n",
    "print(\"Area of major segment =\", area_of_segment(radius, (360 - angle)))"
   ]
  },
  {
   "cell_type": "code",
   "execution_count": 3,
   "metadata": {},
   "outputs": [
    {
     "name": "stdout",
     "output_type": "stream",
     "text": [
      "Input number of sides: 5\n",
      "Input the length of a side: 4\n",
      "The area of the polygon is:  27.527638409423474\n"
     ]
    }
   ],
   "source": [
    "import math\n",
    "n= int(input(\"Input number of sides: \"))\n",
    "s= float(input(\"Input the length of a side: \"))\n",
    "p_area = n * (s** 2) / (4 * math.tan(math.pi / n))\n",
    "print(\"The area of the polygon is: \",p_area)"
   ]
  },
  {
   "cell_type": "code",
   "execution_count": 5,
   "metadata": {},
   "outputs": [
    {
     "name": "stdout",
     "output_type": "stream",
     "text": [
      "enter the radius5\n",
      "area of circle is 78.53981633974483\n"
     ]
    }
   ],
   "source": [
    "import math\n",
    "def area_of_circle(r):\n",
    "    a=math.pi * r**2\n",
    "    print(\"area of circle is\",a)\n",
    "r=float(input('enter the radius'))\n",
    "area_of_circle(r)"
   ]
  },
  {
   "cell_type": "code",
   "execution_count": 5,
   "metadata": {},
   "outputs": [
    {
     "name": "stdout",
     "output_type": "stream",
     "text": [
      "[7, 22, 174, 117, 110, 183, 12, 116, 134, 80, 195, 112, 198, 122, 160, 47, 133, 149, 47, 142, 79, 51, 147, 85, 36, 146, 31, 150, 57, 121, 172, 148, 27, 195, 53, 175, 33, 168, 92, 186, 183, 189, 67, 154, 79, 85, 81, 88, 51, 17, 68, 185, 71, 102, 119, 105, 23, 18, 86, 97, 175, 17, 180, 166, 115, 73, 142, 2, 93, 198, 66, 58, 129, 181, 7, 184, 29, 189, 51, 13, 34, 172, 177, 86, 57, 142, 116, 122, 37, 150, 118, 185, 42, 94, 171, 164, 11, 142, 58, 163, 187, 144, 132, 67, 173, 191, 26, 40, 180, 180, 72, 150, 119, 71, 109, 195, 8, 15, 185, 97, 196, 138, 66, 170, 46, 79, 150, 147, 200, 70, 29, 176, 177, 152, 178, 75, 83, 43, 53, 1, 145, 83, 9, 26, 58, 178, 57, 130, 9, 184, 2, 59, 190, 161, 50, 136, 84, 70, 180, 19, 121, 26, 62, 158, 58, 37, 51, 156, 70, 145, 162, 86, 173, 111, 44, 24, 7, 197, 119, 70, 118, 16, 148, 100, 165, 89, 184, 83, 192, 58, 132, 4, 64, 187, 168, 90, 152, 41, 1]\n",
      "[7, 57, 7, 57, 7]\n"
     ]
    }
   ],
   "source": [
    "import random\n",
    "l1=[]\n",
    "l2=[]\n",
    "for i in range(1,200):\n",
    "    x=random.randint(1,200)\n",
    "    #print(x)\n",
    "    l1.append(x)\n",
    "    if i==1:\n",
    "        l2.append(x)\n",
    "    k=len(l1)\n",
    "    l=len(l2)\n",
    "    if(i>1):\n",
    "        if abs(l2[l-1]-x)==50:\n",
    "            l2.append(x)\n",
    "print(l1)\n",
    "print(l2)\n"
   ]
  },
  {
   "cell_type": "code",
   "execution_count": null,
   "metadata": {},
   "outputs": [],
   "source": []
  },
  {
   "cell_type": "code",
   "execution_count": null,
   "metadata": {},
   "outputs": [],
   "source": []
  }
 ],
 "metadata": {
  "kernelspec": {
   "display_name": "Python 3",
   "language": "python",
   "name": "python3"
  },
  "language_info": {
   "codemirror_mode": {
    "name": "ipython",
    "version": 3
   },
   "file_extension": ".py",
   "mimetype": "text/x-python",
   "name": "python",
   "nbconvert_exporter": "python",
   "pygments_lexer": "ipython3",
   "version": "3.8.3"
  }
 },
 "nbformat": 4,
 "nbformat_minor": 4
}
